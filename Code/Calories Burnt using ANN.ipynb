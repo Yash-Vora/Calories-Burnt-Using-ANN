{
 "cells": [
  {
   "cell_type": "markdown",
   "id": "c9bc0a5f",
   "metadata": {},
   "source": [
    "# Calories Burnt during Exercise using ANN\n",
    "\n",
    "<br><b><i>What happens to your body when you do exercise?</i></b>\n",
    "\n",
    "When you exercise, heart rate increases to circulate more oxygen (via the blood) at a quicker pace. The calories will burn due to increase in heart rate, height, weight, body temperature, etc parameters.\n",
    "\n",
    "## Work Flow:\n",
    "- Data Collection\n",
    "- Data Pre-processing\n",
    "- Data Analysis\n",
    "- Train Test Split\n",
    "- Model Creation\n",
    "- Model Evaluation\n",
    "- Hyper Parameter Tuning\n",
    "- Creating Web App using Flask\n",
    "- CI/CD Pipeline using Github Actions\n",
    "- Deploying to Heroku"
   ]
  },
  {
   "cell_type": "markdown",
   "id": "f6bfca56",
   "metadata": {},
   "source": [
    "### Data Collection\n",
    "\n",
    "Collected calories burnt dataset from kaggle.\n",
    "\n",
    "Dataset Link: https://www.kaggle.com/datasets/fmendes/fmendesdat263xdemos?select=exercise.csv\n",
    "\n",
    "The data have User_Id, Gender, Height, Weight, Duration, Heart Rate, Body Temp, Calories,\n",
    "- User_Id : Unique Id of the user\n",
    "- Gender : Gender of the user\n",
    "- Height : Height of the user\n",
    "- Weight : Weight of the user\n",
    "- Duration : Time taken while doing exercise\n",
    "- Heart Rate : Heart rate while doing exercise\n",
    "- Body Temp : Body temperature while doing exercise\n",
    "- Calories : Calories burnt while doing exercise"
   ]
  },
  {
   "cell_type": "markdown",
   "id": "905d92fd",
   "metadata": {},
   "source": [
    "### Load Data"
   ]
  },
  {
   "cell_type": "code",
   "execution_count": 1,
   "id": "79a73e43",
   "metadata": {},
   "outputs": [
    {
     "data": {
      "text/html": [
       "<div>\n",
       "<style scoped>\n",
       "    .dataframe tbody tr th:only-of-type {\n",
       "        vertical-align: middle;\n",
       "    }\n",
       "\n",
       "    .dataframe tbody tr th {\n",
       "        vertical-align: top;\n",
       "    }\n",
       "\n",
       "    .dataframe thead th {\n",
       "        text-align: right;\n",
       "    }\n",
       "</style>\n",
       "<table border=\"1\" class=\"dataframe\">\n",
       "  <thead>\n",
       "    <tr style=\"text-align: right;\">\n",
       "      <th></th>\n",
       "      <th>User_ID</th>\n",
       "      <th>Gender</th>\n",
       "      <th>Age</th>\n",
       "      <th>Height</th>\n",
       "      <th>Weight</th>\n",
       "      <th>Duration</th>\n",
       "      <th>Heart_Rate</th>\n",
       "      <th>Body_Temp</th>\n",
       "    </tr>\n",
       "  </thead>\n",
       "  <tbody>\n",
       "    <tr>\n",
       "      <th>0</th>\n",
       "      <td>14733363</td>\n",
       "      <td>male</td>\n",
       "      <td>68</td>\n",
       "      <td>190.0</td>\n",
       "      <td>94.0</td>\n",
       "      <td>29.0</td>\n",
       "      <td>105.0</td>\n",
       "      <td>40.8</td>\n",
       "    </tr>\n",
       "    <tr>\n",
       "      <th>1</th>\n",
       "      <td>14861698</td>\n",
       "      <td>female</td>\n",
       "      <td>20</td>\n",
       "      <td>166.0</td>\n",
       "      <td>60.0</td>\n",
       "      <td>14.0</td>\n",
       "      <td>94.0</td>\n",
       "      <td>40.3</td>\n",
       "    </tr>\n",
       "    <tr>\n",
       "      <th>2</th>\n",
       "      <td>11179863</td>\n",
       "      <td>male</td>\n",
       "      <td>69</td>\n",
       "      <td>179.0</td>\n",
       "      <td>79.0</td>\n",
       "      <td>5.0</td>\n",
       "      <td>88.0</td>\n",
       "      <td>38.7</td>\n",
       "    </tr>\n",
       "    <tr>\n",
       "      <th>3</th>\n",
       "      <td>16180408</td>\n",
       "      <td>female</td>\n",
       "      <td>34</td>\n",
       "      <td>179.0</td>\n",
       "      <td>71.0</td>\n",
       "      <td>13.0</td>\n",
       "      <td>100.0</td>\n",
       "      <td>40.5</td>\n",
       "    </tr>\n",
       "    <tr>\n",
       "      <th>4</th>\n",
       "      <td>17771927</td>\n",
       "      <td>female</td>\n",
       "      <td>27</td>\n",
       "      <td>154.0</td>\n",
       "      <td>58.0</td>\n",
       "      <td>10.0</td>\n",
       "      <td>81.0</td>\n",
       "      <td>39.8</td>\n",
       "    </tr>\n",
       "  </tbody>\n",
       "</table>\n",
       "</div>"
      ],
      "text/plain": [
       "    User_ID  Gender  Age  Height  Weight  Duration  Heart_Rate  Body_Temp\n",
       "0  14733363    male   68   190.0    94.0      29.0       105.0       40.8\n",
       "1  14861698  female   20   166.0    60.0      14.0        94.0       40.3\n",
       "2  11179863    male   69   179.0    79.0       5.0        88.0       38.7\n",
       "3  16180408  female   34   179.0    71.0      13.0       100.0       40.5\n",
       "4  17771927  female   27   154.0    58.0      10.0        81.0       39.8"
      ]
     },
     "execution_count": 1,
     "metadata": {},
     "output_type": "execute_result"
    }
   ],
   "source": [
    "import pandas as pd\n",
    "\n",
    "# Exercise Data\n",
    "exercise_df = pd.read_csv('Dataset/exercise.csv')\n",
    "exercise_df.head()"
   ]
  },
  {
   "cell_type": "code",
   "execution_count": 2,
   "id": "e09b9ce7",
   "metadata": {},
   "outputs": [
    {
     "data": {
      "text/html": [
       "<div>\n",
       "<style scoped>\n",
       "    .dataframe tbody tr th:only-of-type {\n",
       "        vertical-align: middle;\n",
       "    }\n",
       "\n",
       "    .dataframe tbody tr th {\n",
       "        vertical-align: top;\n",
       "    }\n",
       "\n",
       "    .dataframe thead th {\n",
       "        text-align: right;\n",
       "    }\n",
       "</style>\n",
       "<table border=\"1\" class=\"dataframe\">\n",
       "  <thead>\n",
       "    <tr style=\"text-align: right;\">\n",
       "      <th></th>\n",
       "      <th>User_ID</th>\n",
       "      <th>Calories</th>\n",
       "    </tr>\n",
       "  </thead>\n",
       "  <tbody>\n",
       "    <tr>\n",
       "      <th>0</th>\n",
       "      <td>14733363</td>\n",
       "      <td>231.0</td>\n",
       "    </tr>\n",
       "    <tr>\n",
       "      <th>1</th>\n",
       "      <td>14861698</td>\n",
       "      <td>66.0</td>\n",
       "    </tr>\n",
       "    <tr>\n",
       "      <th>2</th>\n",
       "      <td>11179863</td>\n",
       "      <td>26.0</td>\n",
       "    </tr>\n",
       "    <tr>\n",
       "      <th>3</th>\n",
       "      <td>16180408</td>\n",
       "      <td>71.0</td>\n",
       "    </tr>\n",
       "    <tr>\n",
       "      <th>4</th>\n",
       "      <td>17771927</td>\n",
       "      <td>35.0</td>\n",
       "    </tr>\n",
       "  </tbody>\n",
       "</table>\n",
       "</div>"
      ],
      "text/plain": [
       "    User_ID  Calories\n",
       "0  14733363     231.0\n",
       "1  14861698      66.0\n",
       "2  11179863      26.0\n",
       "3  16180408      71.0\n",
       "4  17771927      35.0"
      ]
     },
     "execution_count": 2,
     "metadata": {},
     "output_type": "execute_result"
    }
   ],
   "source": [
    "# Calories Data\n",
    "calories_df = pd.read_csv('Dataset/calories.csv')\n",
    "calories_df.head()"
   ]
  },
  {
   "cell_type": "code",
   "execution_count": 3,
   "id": "48bcfc8b",
   "metadata": {},
   "outputs": [
    {
     "data": {
      "text/html": [
       "<div>\n",
       "<style scoped>\n",
       "    .dataframe tbody tr th:only-of-type {\n",
       "        vertical-align: middle;\n",
       "    }\n",
       "\n",
       "    .dataframe tbody tr th {\n",
       "        vertical-align: top;\n",
       "    }\n",
       "\n",
       "    .dataframe thead th {\n",
       "        text-align: right;\n",
       "    }\n",
       "</style>\n",
       "<table border=\"1\" class=\"dataframe\">\n",
       "  <thead>\n",
       "    <tr style=\"text-align: right;\">\n",
       "      <th></th>\n",
       "      <th>User_ID</th>\n",
       "      <th>Gender</th>\n",
       "      <th>Age</th>\n",
       "      <th>Height</th>\n",
       "      <th>Weight</th>\n",
       "      <th>Duration</th>\n",
       "      <th>Heart_Rate</th>\n",
       "      <th>Body_Temp</th>\n",
       "      <th>Calories</th>\n",
       "    </tr>\n",
       "  </thead>\n",
       "  <tbody>\n",
       "    <tr>\n",
       "      <th>0</th>\n",
       "      <td>14733363</td>\n",
       "      <td>male</td>\n",
       "      <td>68</td>\n",
       "      <td>190.0</td>\n",
       "      <td>94.0</td>\n",
       "      <td>29.0</td>\n",
       "      <td>105.0</td>\n",
       "      <td>40.8</td>\n",
       "      <td>231.0</td>\n",
       "    </tr>\n",
       "    <tr>\n",
       "      <th>1</th>\n",
       "      <td>14861698</td>\n",
       "      <td>female</td>\n",
       "      <td>20</td>\n",
       "      <td>166.0</td>\n",
       "      <td>60.0</td>\n",
       "      <td>14.0</td>\n",
       "      <td>94.0</td>\n",
       "      <td>40.3</td>\n",
       "      <td>66.0</td>\n",
       "    </tr>\n",
       "    <tr>\n",
       "      <th>2</th>\n",
       "      <td>11179863</td>\n",
       "      <td>male</td>\n",
       "      <td>69</td>\n",
       "      <td>179.0</td>\n",
       "      <td>79.0</td>\n",
       "      <td>5.0</td>\n",
       "      <td>88.0</td>\n",
       "      <td>38.7</td>\n",
       "      <td>26.0</td>\n",
       "    </tr>\n",
       "    <tr>\n",
       "      <th>3</th>\n",
       "      <td>16180408</td>\n",
       "      <td>female</td>\n",
       "      <td>34</td>\n",
       "      <td>179.0</td>\n",
       "      <td>71.0</td>\n",
       "      <td>13.0</td>\n",
       "      <td>100.0</td>\n",
       "      <td>40.5</td>\n",
       "      <td>71.0</td>\n",
       "    </tr>\n",
       "    <tr>\n",
       "      <th>4</th>\n",
       "      <td>17771927</td>\n",
       "      <td>female</td>\n",
       "      <td>27</td>\n",
       "      <td>154.0</td>\n",
       "      <td>58.0</td>\n",
       "      <td>10.0</td>\n",
       "      <td>81.0</td>\n",
       "      <td>39.8</td>\n",
       "      <td>35.0</td>\n",
       "    </tr>\n",
       "  </tbody>\n",
       "</table>\n",
       "</div>"
      ],
      "text/plain": [
       "    User_ID  Gender  Age  Height  Weight  Duration  Heart_Rate  Body_Temp  \\\n",
       "0  14733363    male   68   190.0    94.0      29.0       105.0       40.8   \n",
       "1  14861698  female   20   166.0    60.0      14.0        94.0       40.3   \n",
       "2  11179863    male   69   179.0    79.0       5.0        88.0       38.7   \n",
       "3  16180408  female   34   179.0    71.0      13.0       100.0       40.5   \n",
       "4  17771927  female   27   154.0    58.0      10.0        81.0       39.8   \n",
       "\n",
       "   Calories  \n",
       "0     231.0  \n",
       "1      66.0  \n",
       "2      26.0  \n",
       "3      71.0  \n",
       "4      35.0  "
      ]
     },
     "execution_count": 3,
     "metadata": {},
     "output_type": "execute_result"
    }
   ],
   "source": [
    "# Join exercise and calories dataframe\n",
    "df = pd.merge(exercise_df, calories_df, on='User_ID')\n",
    "df.head()"
   ]
  },
  {
   "cell_type": "markdown",
   "id": "f65fb1a4",
   "metadata": {},
   "source": [
    "### Data Pre-Processing"
   ]
  },
  {
   "cell_type": "code",
   "execution_count": 4,
   "id": "d4497d08",
   "metadata": {},
   "outputs": [
    {
     "data": {
      "text/plain": [
       "(15000, 9)"
      ]
     },
     "execution_count": 4,
     "metadata": {},
     "output_type": "execute_result"
    }
   ],
   "source": [
    "# Check shape of the dataset\n",
    "df.shape"
   ]
  },
  {
   "cell_type": "code",
   "execution_count": 5,
   "id": "e131fe6c",
   "metadata": {},
   "outputs": [
    {
     "name": "stdout",
     "output_type": "stream",
     "text": [
      "<class 'pandas.core.frame.DataFrame'>\n",
      "Int64Index: 15000 entries, 0 to 14999\n",
      "Data columns (total 9 columns):\n",
      " #   Column      Non-Null Count  Dtype  \n",
      "---  ------      --------------  -----  \n",
      " 0   User_ID     15000 non-null  int64  \n",
      " 1   Gender      15000 non-null  object \n",
      " 2   Age         15000 non-null  int64  \n",
      " 3   Height      15000 non-null  float64\n",
      " 4   Weight      15000 non-null  float64\n",
      " 5   Duration    15000 non-null  float64\n",
      " 6   Heart_Rate  15000 non-null  float64\n",
      " 7   Body_Temp   15000 non-null  float64\n",
      " 8   Calories    15000 non-null  float64\n",
      "dtypes: float64(6), int64(2), object(1)\n",
      "memory usage: 1.1+ MB\n"
     ]
    }
   ],
   "source": [
    "# Check basic information of the dataset\n",
    "df.info()"
   ]
  },
  {
   "cell_type": "code",
   "execution_count": 6,
   "id": "5d203bea",
   "metadata": {},
   "outputs": [
    {
     "data": {
      "text/plain": [
       "User_ID       0\n",
       "Gender        0\n",
       "Age           0\n",
       "Height        0\n",
       "Weight        0\n",
       "Duration      0\n",
       "Heart_Rate    0\n",
       "Body_Temp     0\n",
       "Calories      0\n",
       "dtype: int64"
      ]
     },
     "execution_count": 6,
     "metadata": {},
     "output_type": "execute_result"
    }
   ],
   "source": [
    "# Check null values in the dataset\n",
    "df.isnull().sum()"
   ]
  },
  {
   "cell_type": "markdown",
   "id": "a8cfb0f2",
   "metadata": {},
   "source": [
    "### Data Analysis"
   ]
  },
  {
   "cell_type": "code",
   "execution_count": 7,
   "id": "9d749f5b",
   "metadata": {},
   "outputs": [
    {
     "data": {
      "text/html": [
       "<div>\n",
       "<style scoped>\n",
       "    .dataframe tbody tr th:only-of-type {\n",
       "        vertical-align: middle;\n",
       "    }\n",
       "\n",
       "    .dataframe tbody tr th {\n",
       "        vertical-align: top;\n",
       "    }\n",
       "\n",
       "    .dataframe thead th {\n",
       "        text-align: right;\n",
       "    }\n",
       "</style>\n",
       "<table border=\"1\" class=\"dataframe\">\n",
       "  <thead>\n",
       "    <tr style=\"text-align: right;\">\n",
       "      <th></th>\n",
       "      <th>User_ID</th>\n",
       "      <th>Age</th>\n",
       "      <th>Height</th>\n",
       "      <th>Weight</th>\n",
       "      <th>Duration</th>\n",
       "      <th>Heart_Rate</th>\n",
       "      <th>Body_Temp</th>\n",
       "      <th>Calories</th>\n",
       "    </tr>\n",
       "  </thead>\n",
       "  <tbody>\n",
       "    <tr>\n",
       "      <th>count</th>\n",
       "      <td>1.500000e+04</td>\n",
       "      <td>15000.000000</td>\n",
       "      <td>15000.000000</td>\n",
       "      <td>15000.000000</td>\n",
       "      <td>15000.000000</td>\n",
       "      <td>15000.000000</td>\n",
       "      <td>15000.000000</td>\n",
       "      <td>15000.000000</td>\n",
       "    </tr>\n",
       "    <tr>\n",
       "      <th>mean</th>\n",
       "      <td>1.497736e+07</td>\n",
       "      <td>42.789800</td>\n",
       "      <td>174.465133</td>\n",
       "      <td>74.966867</td>\n",
       "      <td>15.530600</td>\n",
       "      <td>95.518533</td>\n",
       "      <td>40.025453</td>\n",
       "      <td>89.539533</td>\n",
       "    </tr>\n",
       "    <tr>\n",
       "      <th>std</th>\n",
       "      <td>2.872851e+06</td>\n",
       "      <td>16.980264</td>\n",
       "      <td>14.258114</td>\n",
       "      <td>15.035657</td>\n",
       "      <td>8.319203</td>\n",
       "      <td>9.583328</td>\n",
       "      <td>0.779230</td>\n",
       "      <td>62.456978</td>\n",
       "    </tr>\n",
       "    <tr>\n",
       "      <th>min</th>\n",
       "      <td>1.000116e+07</td>\n",
       "      <td>20.000000</td>\n",
       "      <td>123.000000</td>\n",
       "      <td>36.000000</td>\n",
       "      <td>1.000000</td>\n",
       "      <td>67.000000</td>\n",
       "      <td>37.100000</td>\n",
       "      <td>1.000000</td>\n",
       "    </tr>\n",
       "    <tr>\n",
       "      <th>25%</th>\n",
       "      <td>1.247419e+07</td>\n",
       "      <td>28.000000</td>\n",
       "      <td>164.000000</td>\n",
       "      <td>63.000000</td>\n",
       "      <td>8.000000</td>\n",
       "      <td>88.000000</td>\n",
       "      <td>39.600000</td>\n",
       "      <td>35.000000</td>\n",
       "    </tr>\n",
       "    <tr>\n",
       "      <th>50%</th>\n",
       "      <td>1.499728e+07</td>\n",
       "      <td>39.000000</td>\n",
       "      <td>175.000000</td>\n",
       "      <td>74.000000</td>\n",
       "      <td>16.000000</td>\n",
       "      <td>96.000000</td>\n",
       "      <td>40.200000</td>\n",
       "      <td>79.000000</td>\n",
       "    </tr>\n",
       "    <tr>\n",
       "      <th>75%</th>\n",
       "      <td>1.744928e+07</td>\n",
       "      <td>56.000000</td>\n",
       "      <td>185.000000</td>\n",
       "      <td>87.000000</td>\n",
       "      <td>23.000000</td>\n",
       "      <td>103.000000</td>\n",
       "      <td>40.600000</td>\n",
       "      <td>138.000000</td>\n",
       "    </tr>\n",
       "    <tr>\n",
       "      <th>max</th>\n",
       "      <td>1.999965e+07</td>\n",
       "      <td>79.000000</td>\n",
       "      <td>222.000000</td>\n",
       "      <td>132.000000</td>\n",
       "      <td>30.000000</td>\n",
       "      <td>128.000000</td>\n",
       "      <td>41.500000</td>\n",
       "      <td>314.000000</td>\n",
       "    </tr>\n",
       "  </tbody>\n",
       "</table>\n",
       "</div>"
      ],
      "text/plain": [
       "            User_ID           Age        Height        Weight      Duration  \\\n",
       "count  1.500000e+04  15000.000000  15000.000000  15000.000000  15000.000000   \n",
       "mean   1.497736e+07     42.789800    174.465133     74.966867     15.530600   \n",
       "std    2.872851e+06     16.980264     14.258114     15.035657      8.319203   \n",
       "min    1.000116e+07     20.000000    123.000000     36.000000      1.000000   \n",
       "25%    1.247419e+07     28.000000    164.000000     63.000000      8.000000   \n",
       "50%    1.499728e+07     39.000000    175.000000     74.000000     16.000000   \n",
       "75%    1.744928e+07     56.000000    185.000000     87.000000     23.000000   \n",
       "max    1.999965e+07     79.000000    222.000000    132.000000     30.000000   \n",
       "\n",
       "         Heart_Rate     Body_Temp      Calories  \n",
       "count  15000.000000  15000.000000  15000.000000  \n",
       "mean      95.518533     40.025453     89.539533  \n",
       "std        9.583328      0.779230     62.456978  \n",
       "min       67.000000     37.100000      1.000000  \n",
       "25%       88.000000     39.600000     35.000000  \n",
       "50%       96.000000     40.200000     79.000000  \n",
       "75%      103.000000     40.600000    138.000000  \n",
       "max      128.000000     41.500000    314.000000  "
      ]
     },
     "execution_count": 7,
     "metadata": {},
     "output_type": "execute_result"
    }
   ],
   "source": [
    "# Get statistical measures of the dataset\n",
    "df.describe()"
   ]
  },
  {
   "cell_type": "code",
   "execution_count": 8,
   "id": "08bb5b0d",
   "metadata": {},
   "outputs": [],
   "source": [
    "import matplotlib.pyplot as plt \n",
    "%matplotlib inline\n",
    "import seaborn as sns\n",
    "sns.set_style(\"darkgrid\")\n",
    "import warnings\n",
    "warnings.filterwarnings('ignore')"
   ]
  },
  {
   "cell_type": "code",
   "execution_count": 9,
   "id": "4dad60cd",
   "metadata": {},
   "outputs": [
    {
     "data": {
      "text/html": [
       "<div>\n",
       "<style scoped>\n",
       "    .dataframe tbody tr th:only-of-type {\n",
       "        vertical-align: middle;\n",
       "    }\n",
       "\n",
       "    .dataframe tbody tr th {\n",
       "        vertical-align: top;\n",
       "    }\n",
       "\n",
       "    .dataframe thead th {\n",
       "        text-align: right;\n",
       "    }\n",
       "</style>\n",
       "<table border=\"1\" class=\"dataframe\">\n",
       "  <thead>\n",
       "    <tr style=\"text-align: right;\">\n",
       "      <th></th>\n",
       "      <th>User_ID</th>\n",
       "      <th>Gender</th>\n",
       "      <th>Age</th>\n",
       "      <th>Height</th>\n",
       "      <th>Weight</th>\n",
       "      <th>Duration</th>\n",
       "      <th>Heart_Rate</th>\n",
       "      <th>Body_Temp</th>\n",
       "      <th>Calories</th>\n",
       "    </tr>\n",
       "  </thead>\n",
       "  <tbody>\n",
       "    <tr>\n",
       "      <th>0</th>\n",
       "      <td>14733363</td>\n",
       "      <td>male</td>\n",
       "      <td>68</td>\n",
       "      <td>190.0</td>\n",
       "      <td>94.0</td>\n",
       "      <td>29.0</td>\n",
       "      <td>105.0</td>\n",
       "      <td>40.8</td>\n",
       "      <td>231.0</td>\n",
       "    </tr>\n",
       "    <tr>\n",
       "      <th>1</th>\n",
       "      <td>14861698</td>\n",
       "      <td>female</td>\n",
       "      <td>20</td>\n",
       "      <td>166.0</td>\n",
       "      <td>60.0</td>\n",
       "      <td>14.0</td>\n",
       "      <td>94.0</td>\n",
       "      <td>40.3</td>\n",
       "      <td>66.0</td>\n",
       "    </tr>\n",
       "    <tr>\n",
       "      <th>2</th>\n",
       "      <td>11179863</td>\n",
       "      <td>male</td>\n",
       "      <td>69</td>\n",
       "      <td>179.0</td>\n",
       "      <td>79.0</td>\n",
       "      <td>5.0</td>\n",
       "      <td>88.0</td>\n",
       "      <td>38.7</td>\n",
       "      <td>26.0</td>\n",
       "    </tr>\n",
       "    <tr>\n",
       "      <th>3</th>\n",
       "      <td>16180408</td>\n",
       "      <td>female</td>\n",
       "      <td>34</td>\n",
       "      <td>179.0</td>\n",
       "      <td>71.0</td>\n",
       "      <td>13.0</td>\n",
       "      <td>100.0</td>\n",
       "      <td>40.5</td>\n",
       "      <td>71.0</td>\n",
       "    </tr>\n",
       "    <tr>\n",
       "      <th>4</th>\n",
       "      <td>17771927</td>\n",
       "      <td>female</td>\n",
       "      <td>27</td>\n",
       "      <td>154.0</td>\n",
       "      <td>58.0</td>\n",
       "      <td>10.0</td>\n",
       "      <td>81.0</td>\n",
       "      <td>39.8</td>\n",
       "      <td>35.0</td>\n",
       "    </tr>\n",
       "  </tbody>\n",
       "</table>\n",
       "</div>"
      ],
      "text/plain": [
       "    User_ID  Gender  Age  Height  Weight  Duration  Heart_Rate  Body_Temp  \\\n",
       "0  14733363    male   68   190.0    94.0      29.0       105.0       40.8   \n",
       "1  14861698  female   20   166.0    60.0      14.0        94.0       40.3   \n",
       "2  11179863    male   69   179.0    79.0       5.0        88.0       38.7   \n",
       "3  16180408  female   34   179.0    71.0      13.0       100.0       40.5   \n",
       "4  17771927  female   27   154.0    58.0      10.0        81.0       39.8   \n",
       "\n",
       "   Calories  \n",
       "0     231.0  \n",
       "1      66.0  \n",
       "2      26.0  \n",
       "3      71.0  \n",
       "4      35.0  "
      ]
     },
     "execution_count": 9,
     "metadata": {},
     "output_type": "execute_result"
    }
   ],
   "source": [
    "df.head()"
   ]
  },
  {
   "cell_type": "code",
   "execution_count": 10,
   "id": "831bf71e",
   "metadata": {},
   "outputs": [
    {
     "data": {
      "image/png": "[encoded data removed]",
      "text/plain": [
       "<Figure size 432x288 with 1 Axes>"
      ]
     },
     "metadata": {},
     "output_type": "display_data"
    }
   ],
   "source": [
    "# Check how many male and female are in dataset\n",
    "df['Gender'].value_counts().plot(kind='pie',autopct='%1.1f%%',explode=[0,0.04],labels=['',''])\n",
    "plt.title('Total number of Male & Female')\n",
    "plt.ylabel('')\n",
    "plt.legend(['female','male'],title='Gender',loc =\"upper right\")\n",
    "plt.show()"
   ]
  },
  {
   "cell_type": "code",
   "execution_count": 11,
   "id": "3eee112c",
   "metadata": {},
   "outputs": [
    {
     "data": {
      "image/png": "[encoded data removed]",
      "text/plain": [
       "<Figure size 1296x1296 with 6 Axes>"
      ]
     },
     "metadata": {},
     "output_type": "display_data"
    }
   ],
   "source": [
    "# Check distribution of Age, Height, Weight, Duration, Heart_Rate, Body_Temp\n",
    "plt.figure(figsize=(18,18))\n",
    "\n",
    "plt.subplot(3,3,1)\n",
    "sns.distplot(df['Age'])\n",
    "\n",
    "plt.subplot(3,3,2)\n",
    "sns.distplot(df['Height'])\n",
    "\n",
    "plt.subplot(3,3,3)\n",
    "sns.distplot(df['Weight'])\n",
    "\n",
    "plt.subplot(3,3,4)\n",
    "sns.distplot(df['Duration'])\n",
    "\n",
    "plt.subplot(3,3,5)\n",
    "sns.distplot(df['Heart_Rate'])\n",
    "\n",
    "plt.subplot(3,3,6)\n",
    "sns.distplot(df['Body_Temp'])\n",
    "\n",
    "plt.show()"
   ]
  },
  {
   "cell_type": "code",
   "execution_count": 12,
   "id": "d8d7da0a",
   "metadata": {},
   "outputs": [
    {
     "data": {
      "image/png": "[encoded data removed]",
      "text/plain": [
       "<Figure size 1296x1296 with 6 Axes>"
      ]
     },
     "metadata": {},
     "output_type": "display_data"
    }
   ],
   "source": [
    "# Check outliers in Age, Height, Weight, Duration, Heart_Rate, Body_Temp\n",
    "plt.figure(figsize=(18,18))\n",
    "\n",
    "plt.subplot(3,3,1)\n",
    "sns.boxplot(df['Age'])\n",
    "\n",
    "plt.subplot(3,3,2)\n",
    "sns.boxplot(df['Height'])\n",
    "\n",
    "plt.subplot(3,3,3)\n",
    "sns.boxplot(df['Weight'])\n",
    "\n",
    "plt.subplot(3,3,4)\n",
    "sns.boxplot(df['Duration'])\n",
    "\n",
    "plt.subplot(3,3,5)\n",
    "sns.boxplot(df['Heart_Rate'])\n",
    "\n",
    "plt.subplot(3,3,6)\n",
    "sns.boxplot(df['Body_Temp'])\n",
    "\n",
    "plt.show()"
   ]
  },
  {
   "cell_type": "markdown",
   "id": "dafd4b2c",
   "metadata": {},
   "source": [
    "Correlation:<br>\n",
    "It is used to check relationship between two columns.\n",
    "- Positive Correlation - It means if one feature increases then another feature also increases. In other words both feature are directly proportional to each other.\n",
    "- Negative Correlation - Itmeans if one featyre increases then another feature decreases. In other words both feature are inversely proportional to each other.\n",
    "- No Correlation - If there is 0 value it means there is no correlation."
   ]
  },
  {
   "cell_type": "code",
   "execution_count": 13,
   "id": "48a5fc69",
   "metadata": {},
   "outputs": [
    {
     "data": {
      "image/png": "[encoded data removed]",
      "text/plain": [
       "<Figure size 720x720 with 2 Axes>"
      ]
     },
     "metadata": {},
     "output_type": "display_data"
    }
   ],
   "source": [
    "# Check correlation of each column using heat map\n",
    "plt.figure(figsize=(10,10))\n",
    "sns.heatmap(df.corr(), annot=True, square=True, fmt='.1f', annot_kws={'size': 9}, cmap='Blues')\n",
    "plt.show()"
   ]
  },
  {
   "cell_type": "markdown",
   "id": "f69d1120",
   "metadata": {},
   "source": [
    "Converting categorical column to numerical"
   ]
  },
  {
   "cell_type": "code",
   "execution_count": 14,
   "id": "e174a6f9",
   "metadata": {},
   "outputs": [
    {
     "data": {
      "text/html": [
       "<div>\n",
       "<style scoped>\n",
       "    .dataframe tbody tr th:only-of-type {\n",
       "        vertical-align: middle;\n",
       "    }\n",
       "\n",
       "    .dataframe tbody tr th {\n",
       "        vertical-align: top;\n",
       "    }\n",
       "\n",
       "    .dataframe thead th {\n",
       "        text-align: right;\n",
       "    }\n",
       "</style>\n",
       "<table border=\"1\" class=\"dataframe\">\n",
       "  <thead>\n",
       "    <tr style=\"text-align: right;\">\n",
       "      <th></th>\n",
       "      <th>male</th>\n",
       "    </tr>\n",
       "  </thead>\n",
       "  <tbody>\n",
       "    <tr>\n",
       "      <th>0</th>\n",
       "      <td>1</td>\n",
       "    </tr>\n",
       "    <tr>\n",
       "      <th>1</th>\n",
       "      <td>0</td>\n",
       "    </tr>\n",
       "    <tr>\n",
       "      <th>2</th>\n",
       "      <td>1</td>\n",
       "    </tr>\n",
       "    <tr>\n",
       "      <th>3</th>\n",
       "      <td>0</td>\n",
       "    </tr>\n",
       "    <tr>\n",
       "      <th>4</th>\n",
       "      <td>0</td>\n",
       "    </tr>\n",
       "  </tbody>\n",
       "</table>\n",
       "</div>"
      ],
      "text/plain": [
       "   male\n",
       "0     1\n",
       "1     0\n",
       "2     1\n",
       "3     0\n",
       "4     0"
      ]
     },
     "execution_count": 14,
     "metadata": {},
     "output_type": "execute_result"
    }
   ],
   "source": [
    "# One hot encoding on Gender column\n",
    "encoded_gender = pd.get_dummies(df['Gender'], drop_first=True)\n",
    "encoded_gender.head()"
   ]
  },
  {
   "cell_type": "code",
   "execution_count": 15,
   "id": "b1bac8d8",
   "metadata": {},
   "outputs": [
    {
     "data": {
      "text/html": [
       "<div>\n",
       "<style scoped>\n",
       "    .dataframe tbody tr th:only-of-type {\n",
       "        vertical-align: middle;\n",
       "    }\n",
       "\n",
       "    .dataframe tbody tr th {\n",
       "        vertical-align: top;\n",
       "    }\n",
       "\n",
       "    .dataframe thead th {\n",
       "        text-align: right;\n",
       "    }\n",
       "</style>\n",
       "<table border=\"1\" class=\"dataframe\">\n",
       "  <thead>\n",
       "    <tr style=\"text-align: right;\">\n",
       "      <th></th>\n",
       "      <th>User_ID</th>\n",
       "      <th>Age</th>\n",
       "      <th>Height</th>\n",
       "      <th>Weight</th>\n",
       "      <th>Duration</th>\n",
       "      <th>Heart_Rate</th>\n",
       "      <th>Body_Temp</th>\n",
       "      <th>Calories</th>\n",
       "      <th>male</th>\n",
       "    </tr>\n",
       "  </thead>\n",
       "  <tbody>\n",
       "    <tr>\n",
       "      <th>0</th>\n",
       "      <td>14733363</td>\n",
       "      <td>68</td>\n",
       "      <td>190.0</td>\n",
       "      <td>94.0</td>\n",
       "      <td>29.0</td>\n",
       "      <td>105.0</td>\n",
       "      <td>40.8</td>\n",
       "      <td>231.0</td>\n",
       "      <td>1</td>\n",
       "    </tr>\n",
       "    <tr>\n",
       "      <th>1</th>\n",
       "      <td>14861698</td>\n",
       "      <td>20</td>\n",
       "      <td>166.0</td>\n",
       "      <td>60.0</td>\n",
       "      <td>14.0</td>\n",
       "      <td>94.0</td>\n",
       "      <td>40.3</td>\n",
       "      <td>66.0</td>\n",
       "      <td>0</td>\n",
       "    </tr>\n",
       "    <tr>\n",
       "      <th>2</th>\n",
       "      <td>11179863</td>\n",
       "      <td>69</td>\n",
       "      <td>179.0</td>\n",
       "      <td>79.0</td>\n",
       "      <td>5.0</td>\n",
       "      <td>88.0</td>\n",
       "      <td>38.7</td>\n",
       "      <td>26.0</td>\n",
       "      <td>1</td>\n",
       "    </tr>\n",
       "    <tr>\n",
       "      <th>3</th>\n",
       "      <td>16180408</td>\n",
       "      <td>34</td>\n",
       "      <td>179.0</td>\n",
       "      <td>71.0</td>\n",
       "      <td>13.0</td>\n",
       "      <td>100.0</td>\n",
       "      <td>40.5</td>\n",
       "      <td>71.0</td>\n",
       "      <td>0</td>\n",
       "    </tr>\n",
       "    <tr>\n",
       "      <th>4</th>\n",
       "      <td>17771927</td>\n",
       "      <td>27</td>\n",
       "      <td>154.0</td>\n",
       "      <td>58.0</td>\n",
       "      <td>10.0</td>\n",
       "      <td>81.0</td>\n",
       "      <td>39.8</td>\n",
       "      <td>35.0</td>\n",
       "      <td>0</td>\n",
       "    </tr>\n",
       "  </tbody>\n",
       "</table>\n",
       "</div>"
      ],
      "text/plain": [
       "    User_ID  Age  Height  Weight  Duration  Heart_Rate  Body_Temp  Calories  \\\n",
       "0  14733363   68   190.0    94.0      29.0       105.0       40.8     231.0   \n",
       "1  14861698   20   166.0    60.0      14.0        94.0       40.3      66.0   \n",
       "2  11179863   69   179.0    79.0       5.0        88.0       38.7      26.0   \n",
       "3  16180408   34   179.0    71.0      13.0       100.0       40.5      71.0   \n",
       "4  17771927   27   154.0    58.0      10.0        81.0       39.8      35.0   \n",
       "\n",
       "   male  \n",
       "0     1  \n",
       "1     0  \n",
       "2     1  \n",
       "3     0  \n",
       "4     0  "
      ]
     },
     "execution_count": 15,
     "metadata": {},
     "output_type": "execute_result"
    }
   ],
   "source": [
    "# Concat df and encoded_gender column\n",
    "new_df = pd.concat([df,encoded_gender], axis=1)\n",
    "\n",
    "# Delete Gender Column\n",
    "new_df.drop('Gender', axis=1, inplace=True)\n",
    "\n",
    "new_df.head()"
   ]
  },
  {
   "cell_type": "markdown",
   "id": "5ec7e528",
   "metadata": {},
   "source": [
    "### Train Test Split"
   ]
  },
  {
   "cell_type": "code",
   "execution_count": 16,
   "id": "4e4a6f18",
   "metadata": {},
   "outputs": [],
   "source": [
    "# Seperating Dependent & Independent columns\n",
    "x = new_df.drop(['User_ID', 'Calories'], axis=1) # Independent columns\n",
    "y = new_df[['Calories']] # Dependent columns"
   ]
  },
  {
   "cell_type": "code",
   "execution_count": 17,
   "id": "a03a1949",
   "metadata": {},
   "outputs": [
    {
     "data": {
      "text/plain": [
       "((15000, 7), (15000, 1))"
      ]
     },
     "execution_count": 17,
     "metadata": {},
     "output_type": "execute_result"
    }
   ],
   "source": [
    "# Shape of x and y\n",
    "x.shape, y.shape"
   ]
  },
  {
   "cell_type": "code",
   "execution_count": 18,
   "id": "2818e460",
   "metadata": {},
   "outputs": [],
   "source": [
    "# Splitting data into training and testing\n",
    "from sklearn.model_selection import train_test_split\n",
    "\n",
    "x_train, x_test, y_train, y_test = train_test_split(x, y, test_size=0.2)"
   ]
  },
  {
   "cell_type": "code",
   "execution_count": 19,
   "id": "ab987815",
   "metadata": {},
   "outputs": [
    {
     "data": {
      "text/plain": [
       "((12000, 7), (3000, 7), (12000, 1), (3000, 1))"
      ]
     },
     "execution_count": 19,
     "metadata": {},
     "output_type": "execute_result"
    }
   ],
   "source": [
    "# Shape of x_train, x_test, y_train, and y_test\n",
    "x_train.shape, x_test.shape, y_train.shape, y_test.shape"
   ]
  },
  {
   "cell_type": "markdown",
   "id": "c6043768",
   "metadata": {},
   "source": [
    "### Model Creation"
   ]
  },
  {
   "cell_type": "code",
   "execution_count": 20,
   "id": "c2e5b846",
   "metadata": {},
   "outputs": [],
   "source": [
    "# Feature Scaling\n",
    "from sklearn.preprocessing import StandardScaler\n",
    "\n",
    "sc = StandardScaler()\n",
    "x_train = sc.fit_transform(x_train)\n",
    "x_test = sc.transform(x_test)"
   ]
  },
  {
   "cell_type": "code",
   "execution_count": 21,
   "id": "98f6b72a",
   "metadata": {},
   "outputs": [],
   "source": [
    "# Libraries required for ANN\n",
    "import tensorflow\n",
    "from tensorflow.python.keras.layers import Dense\n",
    "from tensorflow.python.keras.models import Sequential\n",
    "from tensorflow.python.keras.layers import Dropout"
   ]
  },
  {
   "cell_type": "markdown",
   "id": "fdf4b7b3",
   "metadata": {},
   "source": [
    "Can we use accuracy as metrics for Regression? - https://machinelearningmastery.com/regression-metrics-for-machine-learning/#:~:text=Accuracy%20(e.g.%20classification%20accuracy)%20is,an%20error%20in%20those%20predictions."
   ]
  },
  {
   "cell_type": "code",
   "execution_count": 26,
   "id": "d65219c4",
   "metadata": {},
   "outputs": [],
   "source": [
    "# ANN Architecture\n",
    "\n",
    "# Initializing ANN\n",
    "model = Sequential()\n",
    "\n",
    "# Adding first hidden layer and input layer\n",
    "model.add(Dense(units=32, kernel_initializer='he_uniform', activation='relu', input_dim=7))\n",
    "\n",
    "# Adding second hidden layer\n",
    "model.add(Dense(units=64, kernel_initializer='he_uniform', activation='relu'))\n",
    "\n",
    "# Adding output layer\n",
    "model.add(Dense(units=1, kernel_initializer='glorot_uniform', activation='linear'))\n",
    "\n",
    "# Compiling the ANN\n",
    "model.compile(optimizer='adam', loss='mae', metrics=['mse'])"
   ]
  },
  {
   "cell_type": "code",
   "execution_count": 27,
   "id": "c2ab2555",
   "metadata": {},
   "outputs": [
    {
     "name": "stdout",
     "output_type": "stream",
     "text": [
      "Model: \"sequential_1\"\n",
      "_________________________________________________________________\n",
      "Layer (type)                 Output Shape              Param #   \n",
      "=================================================================\n",
      "dense_3 (Dense)              (None, 32)                256       \n",
      "_________________________________________________________________\n",
      "dense_4 (Dense)              (None, 64)                2112      \n",
      "_________________________________________________________________\n",
      "dense_5 (Dense)              (None, 1)                 65        \n",
      "=================================================================\n",
      "Total params: 2,433\n",
      "Trainable params: 2,433\n",
      "Non-trainable params: 0\n",
      "_________________________________________________________________\n"
     ]
    }
   ],
   "source": [
    "# Model Summary\n",
    "model.summary()"
   ]
  },
  {
   "cell_type": "code",
   "execution_count": 28,
   "id": "dfd730d5",
   "metadata": {},
   "outputs": [],
   "source": [
    "# Early Stopping\n",
    "from tensorflow.python.keras.callbacks import EarlyStopping\n",
    "callback = EarlyStopping(monitor='val_loss', patience=15)"
   ]
  },
  {
   "cell_type": "code",
   "execution_count": 29,
   "id": "74dd5cd9",
   "metadata": {
    "scrolled": true
   },
   "outputs": [
    {
     "name": "stdout",
     "output_type": "stream",
     "text": [
      "Epoch 1/100\n",
      "263/263 [==============================] - 2s 4ms/step - loss: 53.1143 - mse: 5735.6211 - val_loss: 10.7961 - val_mse: 185.4428\n",
      "Epoch 2/100\n",
      "263/263 [==============================] - 1s 2ms/step - loss: 9.2216 - mse: 136.2472 - val_loss: 7.7758 - val_mse: 98.5021\n",
      "Epoch 3/100\n",
      "263/263 [==============================] - 1s 3ms/step - loss: 6.3316 - mse: 67.2096 - val_loss: 5.0201 - val_mse: 42.7510\n",
      "Epoch 4/100\n",
      "263/263 [==============================] - 1s 2ms/step - loss: 3.4982 - mse: 22.3391 - val_loss: 2.3778 - val_mse: 10.9157\n",
      "Epoch 5/100\n",
      "263/263 [==============================] - 1s 2ms/step - loss: 2.0362 - mse: 8.6372 - val_loss: 1.7556 - val_mse: 6.6351\n",
      "Epoch 6/100\n",
      "263/263 [==============================] - 1s 2ms/step - loss: 1.6426 - mse: 5.7015 - val_loss: 1.4795 - val_mse: 4.6664\n",
      "Epoch 7/100\n",
      "263/263 [==============================] - 1s 2ms/step - loss: 1.4112 - mse: 4.2389 - val_loss: 1.3111 - val_mse: 3.7304\n",
      "Epoch 8/100\n",
      "263/263 [==============================] - 1s 2ms/step - loss: 1.2492 - mse: 3.3639 - val_loss: 1.1939 - val_mse: 3.1861\n",
      "Epoch 9/100\n",
      "263/263 [==============================] - 1s 2ms/step - loss: 1.1608 - mse: 2.8502 - val_loss: 1.0738 - val_mse: 2.4326\n",
      "Epoch 10/100\n",
      "263/263 [==============================] - 1s 2ms/step - loss: 1.0607 - mse: 2.3595 - val_loss: 0.9717 - val_mse: 2.1048\n",
      "Epoch 11/100\n",
      "263/263 [==============================] - 1s 2ms/step - loss: 0.9903 - mse: 2.0555 - val_loss: 0.9037 - val_mse: 1.9213\n",
      "Epoch 12/100\n",
      "263/263 [==============================] - 1s 3ms/step - loss: 0.9367 - mse: 1.8398 - val_loss: 0.8560 - val_mse: 1.6934\n",
      "Epoch 13/100\n",
      "263/263 [==============================] - 1s 2ms/step - loss: 0.9123 - mse: 1.6870 - val_loss: 0.8838 - val_mse: 1.6482\n",
      "Epoch 14/100\n",
      "263/263 [==============================] - 1s 2ms/step - loss: 0.8811 - mse: 1.5819 - val_loss: 0.9525 - val_mse: 1.8357\n",
      "Epoch 15/100\n",
      "263/263 [==============================] - 1s 2ms/step - loss: 0.8284 - mse: 1.4039 - val_loss: 0.8076 - val_mse: 1.4576\n",
      "Epoch 16/100\n",
      "263/263 [==============================] - 1s 2ms/step - loss: 0.8226 - mse: 1.3589 - val_loss: 0.8143 - val_mse: 1.4100\n",
      "Epoch 17/100\n",
      "263/263 [==============================] - 1s 2ms/step - loss: 0.7871 - mse: 1.2486 - val_loss: 0.7354 - val_mse: 1.2322\n",
      "Epoch 18/100\n",
      "263/263 [==============================] - 1s 2ms/step - loss: 0.7824 - mse: 1.2029 - val_loss: 0.7795 - val_mse: 1.3329\n",
      "Epoch 19/100\n",
      "263/263 [==============================] - 1s 2ms/step - loss: 0.7480 - mse: 1.1113 - val_loss: 0.7346 - val_mse: 1.3192\n",
      "Epoch 20/100\n",
      "263/263 [==============================] - 1s 2ms/step - loss: 0.7185 - mse: 1.0388 - val_loss: 0.7488 - val_mse: 1.2256\n",
      "Epoch 21/100\n",
      "263/263 [==============================] - 1s 2ms/step - loss: 0.7032 - mse: 0.9705 - val_loss: 0.7033 - val_mse: 1.1444\n",
      "Epoch 22/100\n",
      "263/263 [==============================] - 1s 2ms/step - loss: 0.6889 - mse: 0.9364 - val_loss: 0.6660 - val_mse: 1.0387\n",
      "Epoch 23/100\n",
      "263/263 [==============================] - 1s 2ms/step - loss: 0.6645 - mse: 0.8632 - val_loss: 0.7712 - val_mse: 1.1892\n",
      "Epoch 24/100\n",
      "263/263 [==============================] - 1s 2ms/step - loss: 0.6756 - mse: 0.8821 - val_loss: 0.7317 - val_mse: 1.1058\n",
      "Epoch 25/100\n",
      "263/263 [==============================] - 1s 2ms/step - loss: 0.6534 - mse: 0.8262 - val_loss: 0.6303 - val_mse: 0.8935\n",
      "Epoch 26/100\n",
      "263/263 [==============================] - 1s 2ms/step - loss: 0.6514 - mse: 0.8166 - val_loss: 0.6015 - val_mse: 0.8389\n",
      "Epoch 27/100\n",
      "263/263 [==============================] - 1s 2ms/step - loss: 0.6285 - mse: 0.7510 - val_loss: 0.7118 - val_mse: 1.1499\n",
      "Epoch 28/100\n",
      "263/263 [==============================] - 1s 2ms/step - loss: 0.6181 - mse: 0.7344 - val_loss: 0.6009 - val_mse: 0.7798\n",
      "Epoch 29/100\n",
      "263/263 [==============================] - 1s 2ms/step - loss: 0.6302 - mse: 0.7412 - val_loss: 0.6332 - val_mse: 0.8188\n",
      "Epoch 30/100\n",
      "263/263 [==============================] - 1s 2ms/step - loss: 0.5994 - mse: 0.6843 - val_loss: 0.6188 - val_mse: 0.8222\n",
      "Epoch 31/100\n",
      "263/263 [==============================] - 1s 2ms/step - loss: 0.6071 - mse: 0.7028 - val_loss: 0.6865 - val_mse: 0.9106\n",
      "Epoch 32/100\n",
      "263/263 [==============================] - 1s 2ms/step - loss: 0.6040 - mse: 0.6863 - val_loss: 0.5927 - val_mse: 0.7489\n",
      "Epoch 33/100\n",
      "263/263 [==============================] - 1s 2ms/step - loss: 0.5644 - mse: 0.6021 - val_loss: 0.5627 - val_mse: 0.6683\n",
      "Epoch 34/100\n",
      "263/263 [==============================] - 1s 2ms/step - loss: 0.5500 - mse: 0.5735 - val_loss: 0.6344 - val_mse: 0.8581\n",
      "Epoch 35/100\n",
      "263/263 [==============================] - 1s 2ms/step - loss: 0.5815 - mse: 0.6272 - val_loss: 0.5567 - val_mse: 0.6446\n",
      "Epoch 36/100\n",
      "263/263 [==============================] - 1s 2ms/step - loss: 0.5446 - mse: 0.5533 - val_loss: 0.5841 - val_mse: 0.6538\n",
      "Epoch 37/100\n",
      "263/263 [==============================] - 1s 2ms/step - loss: 0.5520 - mse: 0.5687 - val_loss: 0.6146 - val_mse: 0.7548\n",
      "Epoch 38/100\n",
      "263/263 [==============================] - 1s 2ms/step - loss: 0.5291 - mse: 0.5215 - val_loss: 0.5285 - val_mse: 0.5900\n",
      "Epoch 39/100\n",
      "263/263 [==============================] - 1s 2ms/step - loss: 0.5468 - mse: 0.5510 - val_loss: 0.5183 - val_mse: 0.5663\n",
      "Epoch 40/100\n",
      "263/263 [==============================] - 1s 2ms/step - loss: 0.5241 - mse: 0.5073 - val_loss: 0.6010 - val_mse: 0.6746\n",
      "Epoch 41/100\n",
      "263/263 [==============================] - 1s 2ms/step - loss: 0.5365 - mse: 0.5348 - val_loss: 0.5191 - val_mse: 0.5453\n",
      "Epoch 42/100\n",
      "263/263 [==============================] - 1s 2ms/step - loss: 0.5407 - mse: 0.5282 - val_loss: 0.5832 - val_mse: 0.6624\n",
      "Epoch 43/100\n",
      "263/263 [==============================] - 1s 2ms/step - loss: 0.5241 - mse: 0.4947 - val_loss: 0.5352 - val_mse: 0.5677\n",
      "Epoch 44/100\n",
      "263/263 [==============================] - 1s 2ms/step - loss: 0.5064 - mse: 0.4727 - val_loss: 0.5462 - val_mse: 0.5820\n",
      "Epoch 45/100\n",
      "263/263 [==============================] - 1s 2ms/step - loss: 0.5089 - mse: 0.4683 - val_loss: 0.5120 - val_mse: 0.5226\n",
      "Epoch 46/100\n",
      "263/263 [==============================] - 1s 3ms/step - loss: 0.4990 - mse: 0.4596 - val_loss: 0.5135 - val_mse: 0.5387\n",
      "Epoch 47/100\n",
      "263/263 [==============================] - 1s 2ms/step - loss: 0.5092 - mse: 0.4688 - val_loss: 0.5182 - val_mse: 0.5427\n",
      "Epoch 48/100\n",
      "263/263 [==============================] - 1s 2ms/step - loss: 0.5093 - mse: 0.4598 - val_loss: 0.4983 - val_mse: 0.5109\n",
      "Epoch 49/100\n",
      "263/263 [==============================] - 1s 2ms/step - loss: 0.5080 - mse: 0.4656 - val_loss: 0.5135 - val_mse: 0.5378\n",
      "Epoch 50/100\n",
      "263/263 [==============================] - 1s 2ms/step - loss: 0.5079 - mse: 0.4698 - val_loss: 0.6070 - val_mse: 0.7209\n",
      "Epoch 51/100\n",
      "263/263 [==============================] - 1s 2ms/step - loss: 0.5064 - mse: 0.4595 - val_loss: 0.6183 - val_mse: 0.6940\n",
      "Epoch 52/100\n",
      "263/263 [==============================] - 1s 2ms/step - loss: 0.4963 - mse: 0.4485 - val_loss: 0.5472 - val_mse: 0.5901\n",
      "Epoch 53/100\n",
      "263/263 [==============================] - 1s 3ms/step - loss: 0.4677 - mse: 0.3966 - val_loss: 0.5204 - val_mse: 0.5283\n",
      "Epoch 54/100\n",
      "263/263 [==============================] - 1s 3ms/step - loss: 0.4928 - mse: 0.4430 - val_loss: 0.5828 - val_mse: 0.6766\n",
      "Epoch 55/100\n",
      "263/263 [==============================] - 1s 3ms/step - loss: 0.4851 - mse: 0.4252 - val_loss: 0.5011 - val_mse: 0.4913\n",
      "Epoch 56/100\n",
      "263/263 [==============================] - 1s 2ms/step - loss: 0.4723 - mse: 0.4020 - val_loss: 0.5252 - val_mse: 0.5327\n",
      "Epoch 57/100\n",
      "263/263 [==============================] - 1s 3ms/step - loss: 0.4837 - mse: 0.4168 - val_loss: 0.4779 - val_mse: 0.4481\n",
      "Epoch 58/100\n",
      "263/263 [==============================] - 1s 2ms/step - loss: 0.4672 - mse: 0.3900 - val_loss: 0.4587 - val_mse: 0.4191\n",
      "Epoch 59/100\n",
      "263/263 [==============================] - 1s 3ms/step - loss: 0.4733 - mse: 0.4011 - val_loss: 0.5129 - val_mse: 0.5588\n",
      "Epoch 60/100\n",
      "263/263 [==============================] - 1s 2ms/step - loss: 0.4638 - mse: 0.3839 - val_loss: 0.4702 - val_mse: 0.4363\n",
      "Epoch 61/100\n",
      "263/263 [==============================] - 1s 2ms/step - loss: 0.4683 - mse: 0.3879 - val_loss: 0.4958 - val_mse: 0.4866\n",
      "Epoch 62/100\n",
      "263/263 [==============================] - 1s 2ms/step - loss: 0.4534 - mse: 0.3656 - val_loss: 0.4836 - val_mse: 0.4591\n",
      "Epoch 63/100\n",
      "263/263 [==============================] - 1s 2ms/step - loss: 0.4504 - mse: 0.3623 - val_loss: 0.4650 - val_mse: 0.4604\n",
      "Epoch 64/100\n",
      "263/263 [==============================] - 1s 2ms/step - loss: 0.4727 - mse: 0.3941 - val_loss: 0.4675 - val_mse: 0.4533\n",
      "Epoch 65/100\n",
      "263/263 [==============================] - 1s 2ms/step - loss: 0.4468 - mse: 0.3539 - val_loss: 0.4678 - val_mse: 0.4322\n",
      "Epoch 66/100\n",
      "263/263 [==============================] - 1s 2ms/step - loss: 0.4460 - mse: 0.3533 - val_loss: 0.5068 - val_mse: 0.4847\n",
      "Epoch 67/100\n",
      "263/263 [==============================] - 1s 2ms/step - loss: 0.4715 - mse: 0.3927 - val_loss: 0.4480 - val_mse: 0.3925\n",
      "Epoch 68/100\n",
      "263/263 [==============================] - 1s 2ms/step - loss: 0.4529 - mse: 0.3673 - val_loss: 0.4349 - val_mse: 0.3922\n",
      "Epoch 69/100\n",
      "263/263 [==============================] - 1s 2ms/step - loss: 0.4532 - mse: 0.3631 - val_loss: 0.4722 - val_mse: 0.4410\n",
      "Epoch 70/100\n",
      "263/263 [==============================] - 1s 3ms/step - loss: 0.4556 - mse: 0.3670 - val_loss: 0.4369 - val_mse: 0.3940\n",
      "Epoch 71/100\n",
      "263/263 [==============================] - 1s 3ms/step - loss: 0.4397 - mse: 0.3368 - val_loss: 0.4913 - val_mse: 0.4615\n",
      "Epoch 72/100\n",
      "263/263 [==============================] - 1s 2ms/step - loss: 0.4422 - mse: 0.3476 - val_loss: 0.4969 - val_mse: 0.4618\n",
      "Epoch 73/100\n",
      "263/263 [==============================] - 1s 3ms/step - loss: 0.4374 - mse: 0.3354 - val_loss: 0.5113 - val_mse: 0.4963\n",
      "Epoch 74/100\n",
      "263/263 [==============================] - 1s 2ms/step - loss: 0.4283 - mse: 0.3193 - val_loss: 0.4217 - val_mse: 0.3648\n",
      "Epoch 75/100\n",
      "263/263 [==============================] - 1s 2ms/step - loss: 0.4537 - mse: 0.3608 - val_loss: 0.4720 - val_mse: 0.4473\n",
      "Epoch 76/100\n",
      "263/263 [==============================] - 1s 2ms/step - loss: 0.4410 - mse: 0.3364 - val_loss: 0.4473 - val_mse: 0.4148\n",
      "Epoch 77/100\n",
      "263/263 [==============================] - 1s 3ms/step - loss: 0.4430 - mse: 0.3370 - val_loss: 0.5374 - val_mse: 0.5295\n",
      "Epoch 78/100\n",
      "263/263 [==============================] - 1s 2ms/step - loss: 0.4475 - mse: 0.3494 - val_loss: 0.4610 - val_mse: 0.4306\n",
      "Epoch 79/100\n",
      "263/263 [==============================] - 1s 3ms/step - loss: 0.4242 - mse: 0.3155 - val_loss: 0.4270 - val_mse: 0.3649\n",
      "Epoch 80/100\n",
      "263/263 [==============================] - 1s 2ms/step - loss: 0.4168 - mse: 0.3071 - val_loss: 0.5722 - val_mse: 0.5792\n",
      "Epoch 81/100\n",
      "263/263 [==============================] - 1s 3ms/step - loss: 0.4249 - mse: 0.3172 - val_loss: 0.4182 - val_mse: 0.3508\n",
      "Epoch 82/100\n",
      "263/263 [==============================] - 1s 2ms/step - loss: 0.4504 - mse: 0.3532 - val_loss: 0.5663 - val_mse: 0.5446\n",
      "Epoch 83/100\n",
      "263/263 [==============================] - 1s 2ms/step - loss: 0.4269 - mse: 0.3171 - val_loss: 0.4419 - val_mse: 0.3760\n",
      "Epoch 84/100\n",
      "263/263 [==============================] - 1s 2ms/step - loss: 0.4201 - mse: 0.3102 - val_loss: 0.4568 - val_mse: 0.4103\n",
      "Epoch 85/100\n",
      "263/263 [==============================] - 1s 2ms/step - loss: 0.4256 - mse: 0.3235 - val_loss: 0.4088 - val_mse: 0.3407\n",
      "Epoch 86/100\n",
      "263/263 [==============================] - 1s 2ms/step - loss: 0.4124 - mse: 0.2978 - val_loss: 0.4278 - val_mse: 0.3499\n",
      "Epoch 87/100\n",
      "263/263 [==============================] - 1s 3ms/step - loss: 0.4300 - mse: 0.3283 - val_loss: 0.4630 - val_mse: 0.3990\n",
      "Epoch 88/100\n",
      "263/263 [==============================] - 1s 2ms/step - loss: 0.4129 - mse: 0.2955 - val_loss: 0.4821 - val_mse: 0.4559\n",
      "Epoch 89/100\n",
      "263/263 [==============================] - 1s 2ms/step - loss: 0.4226 - mse: 0.3131 - val_loss: 0.4424 - val_mse: 0.3845\n",
      "Epoch 90/100\n",
      "263/263 [==============================] - 1s 2ms/step - loss: 0.4093 - mse: 0.2934 - val_loss: 0.4844 - val_mse: 0.4654\n",
      "Epoch 91/100\n",
      "263/263 [==============================] - 1s 2ms/step - loss: 0.4208 - mse: 0.3029 - val_loss: 0.4668 - val_mse: 0.4552\n",
      "Epoch 92/100\n",
      "263/263 [==============================] - 1s 2ms/step - loss: 0.4357 - mse: 0.3271 - val_loss: 0.4290 - val_mse: 0.3588\n",
      "Epoch 93/100\n",
      "263/263 [==============================] - 1s 2ms/step - loss: 0.4210 - mse: 0.3092 - val_loss: 0.4505 - val_mse: 0.3909\n",
      "Epoch 94/100\n",
      "263/263 [==============================] - 1s 2ms/step - loss: 0.4334 - mse: 0.3202 - val_loss: 0.3978 - val_mse: 0.3167\n",
      "Epoch 95/100\n",
      "263/263 [==============================] - 1s 2ms/step - loss: 0.4228 - mse: 0.3119 - val_loss: 0.3994 - val_mse: 0.3297\n",
      "Epoch 96/100\n",
      "263/263 [==============================] - 1s 2ms/step - loss: 0.4167 - mse: 0.2965 - val_loss: 0.4401 - val_mse: 0.3811\n",
      "Epoch 97/100\n",
      "263/263 [==============================] - 1s 2ms/step - loss: 0.4148 - mse: 0.2969 - val_loss: 0.4270 - val_mse: 0.3484\n",
      "Epoch 98/100\n",
      "263/263 [==============================] - 1s 2ms/step - loss: 0.4172 - mse: 0.3007 - val_loss: 0.4346 - val_mse: 0.3759\n",
      "Epoch 99/100\n",
      "263/263 [==============================] - 1s 3ms/step - loss: 0.4025 - mse: 0.2803 - val_loss: 0.4134 - val_mse: 0.3713\n",
      "Epoch 100/100\n",
      "263/263 [==============================] - 1s 2ms/step - loss: 0.4155 - mse: 0.2998 - val_loss: 0.4120 - val_mse: 0.3281\n"
     ]
    }
   ],
   "source": [
    "# Model Training\n",
    "model_history = model.fit(x_train, y_train, batch_size=32, validation_split=0.3, epochs=100, callbacks=[callback])"
   ]
  },
  {
   "cell_type": "markdown",
   "id": "3fad3094",
   "metadata": {},
   "source": [
    "### Model Evaluation"
   ]
  },
  {
   "cell_type": "code",
   "execution_count": 30,
   "id": "5a16f857",
   "metadata": {},
   "outputs": [
    {
     "data": {
      "text/html": [
       "<div>\n",
       "<style scoped>\n",
       "    .dataframe tbody tr th:only-of-type {\n",
       "        vertical-align: middle;\n",
       "    }\n",
       "\n",
       "    .dataframe tbody tr th {\n",
       "        vertical-align: top;\n",
       "    }\n",
       "\n",
       "    .dataframe thead th {\n",
       "        text-align: right;\n",
       "    }\n",
       "</style>\n",
       "<table border=\"1\" class=\"dataframe\">\n",
       "  <thead>\n",
       "    <tr style=\"text-align: right;\">\n",
       "      <th></th>\n",
       "      <th>loss</th>\n",
       "      <th>mse</th>\n",
       "      <th>val_loss</th>\n",
       "      <th>val_mse</th>\n",
       "    </tr>\n",
       "  </thead>\n",
       "  <tbody>\n",
       "    <tr>\n",
       "      <th>0</th>\n",
       "      <td>53.114250</td>\n",
       "      <td>5735.621094</td>\n",
       "      <td>10.796121</td>\n",
       "      <td>185.442825</td>\n",
       "    </tr>\n",
       "    <tr>\n",
       "      <th>1</th>\n",
       "      <td>9.221619</td>\n",
       "      <td>136.247192</td>\n",
       "      <td>7.775816</td>\n",
       "      <td>98.502090</td>\n",
       "    </tr>\n",
       "    <tr>\n",
       "      <th>2</th>\n",
       "      <td>6.331622</td>\n",
       "      <td>67.209648</td>\n",
       "      <td>5.020095</td>\n",
       "      <td>42.751041</td>\n",
       "    </tr>\n",
       "    <tr>\n",
       "      <th>3</th>\n",
       "      <td>3.498245</td>\n",
       "      <td>22.339144</td>\n",
       "      <td>2.377753</td>\n",
       "      <td>10.915692</td>\n",
       "    </tr>\n",
       "    <tr>\n",
       "      <th>4</th>\n",
       "      <td>2.036164</td>\n",
       "      <td>8.637158</td>\n",
       "      <td>1.755620</td>\n",
       "      <td>6.635148</td>\n",
       "    </tr>\n",
       "    <tr>\n",
       "      <th>...</th>\n",
       "      <td>...</td>\n",
       "      <td>...</td>\n",
       "      <td>...</td>\n",
       "      <td>...</td>\n",
       "    </tr>\n",
       "    <tr>\n",
       "      <th>95</th>\n",
       "      <td>0.416723</td>\n",
       "      <td>0.296492</td>\n",
       "      <td>0.440088</td>\n",
       "      <td>0.381060</td>\n",
       "    </tr>\n",
       "    <tr>\n",
       "      <th>96</th>\n",
       "      <td>0.414815</td>\n",
       "      <td>0.296931</td>\n",
       "      <td>0.427044</td>\n",
       "      <td>0.348396</td>\n",
       "    </tr>\n",
       "    <tr>\n",
       "      <th>97</th>\n",
       "      <td>0.417227</td>\n",
       "      <td>0.300742</td>\n",
       "      <td>0.434591</td>\n",
       "      <td>0.375897</td>\n",
       "    </tr>\n",
       "    <tr>\n",
       "      <th>98</th>\n",
       "      <td>0.402504</td>\n",
       "      <td>0.280331</td>\n",
       "      <td>0.413404</td>\n",
       "      <td>0.371325</td>\n",
       "    </tr>\n",
       "    <tr>\n",
       "      <th>99</th>\n",
       "      <td>0.415464</td>\n",
       "      <td>0.299828</td>\n",
       "      <td>0.411993</td>\n",
       "      <td>0.328084</td>\n",
       "    </tr>\n",
       "  </tbody>\n",
       "</table>\n",
       "<p>100 rows × 4 columns</p>\n",
       "</div>"
      ],
      "text/plain": [
       "         loss          mse   val_loss     val_mse\n",
       "0   53.114250  5735.621094  10.796121  185.442825\n",
       "1    9.221619   136.247192   7.775816   98.502090\n",
       "2    6.331622    67.209648   5.020095   42.751041\n",
       "3    3.498245    22.339144   2.377753   10.915692\n",
       "4    2.036164     8.637158   1.755620    6.635148\n",
       "..        ...          ...        ...         ...\n",
       "95   0.416723     0.296492   0.440088    0.381060\n",
       "96   0.414815     0.296931   0.427044    0.348396\n",
       "97   0.417227     0.300742   0.434591    0.375897\n",
       "98   0.402504     0.280331   0.413404    0.371325\n",
       "99   0.415464     0.299828   0.411993    0.328084\n",
       "\n",
       "[100 rows x 4 columns]"
      ]
     },
     "execution_count": 30,
     "metadata": {},
     "output_type": "execute_result"
    }
   ],
   "source": [
    "# Evaluation metrics for each epoch\n",
    "hist = pd.DataFrame(model_history.history)\n",
    "hist"
   ]
  },
  {
   "cell_type": "code",
   "execution_count": 31,
   "id": "bd1af1f2",
   "metadata": {},
   "outputs": [
    {
     "data": {
      "image/png": "[encoded data removed]",
      "text/plain": [
       "<Figure size 1440x576 with 2 Axes>"
      ]
     },
     "metadata": {},
     "output_type": "display_data"
    }
   ],
   "source": [
    "# Evaluating model train and validation loss\n",
    "\n",
    "# Size of plot\n",
    "plt.figure(figsize=(20, 8))\n",
    "\n",
    "# Subplot 1 for train and validation loss\n",
    "plt.subplot(1, 2, 1)\n",
    "plt.plot(model_history.history['loss'], label='train')\n",
    "plt.plot(model_history.history['val_loss'], label='valid')\n",
    "plt.xlabel('Epoch')\n",
    "plt.ylabel('Loss')\n",
    "plt.title('Model Loss')\n",
    "plt.legend(loc='upper right')\n",
    "\n",
    "# Subplot 2 for train and validation mse loss\n",
    "plt.subplot(1, 2, 2)\n",
    "plt.plot(model_history.history['mse'], label='train')\n",
    "plt.plot(model_history.history['val_mse'], label='valid')\n",
    "plt.xlabel('Epoch')\n",
    "plt.ylabel('MSE Loss')\n",
    "plt.title('Model MSE Loss')\n",
    "plt.legend(loc='upper right')\n",
    "\n",
    "plt.show()"
   ]
  },
  {
   "cell_type": "code",
   "execution_count": 32,
   "id": "b62b2f8c",
   "metadata": {},
   "outputs": [],
   "source": [
    "# Prediction on test data\n",
    "y_pred = model.predict(x_test)"
   ]
  },
  {
   "cell_type": "code",
   "execution_count": 33,
   "id": "8b862da8",
   "metadata": {},
   "outputs": [],
   "source": [
    "from sklearn.metrics import r2_score, mean_absolute_error, mean_squared_error"
   ]
  },
  {
   "cell_type": "code",
   "execution_count": 34,
   "id": "0dc21cff",
   "metadata": {},
   "outputs": [
    {
     "data": {
      "text/plain": [
       "0.9999312534488382"
      ]
     },
     "execution_count": 34,
     "metadata": {},
     "output_type": "execute_result"
    }
   ],
   "source": [
    "# R-Squared\n",
    "R2 = r2_score(y_test, y_pred)\n",
    "R2"
   ]
  },
  {
   "cell_type": "code",
   "execution_count": 35,
   "id": "b98f982c",
   "metadata": {},
   "outputs": [
    {
     "data": {
      "text/plain": [
       "0.9999310926113187"
      ]
     },
     "execution_count": 35,
     "metadata": {},
     "output_type": "execute_result"
    }
   ],
   "source": [
    "# Adjusted R-Squared\n",
    "n = 3000 # Total sample size\n",
    "p = 7  # Number of features\n",
    "Adj_r2 = 1-(1-R2)*(n-1)/(n-p-1)\n",
    "Adj_r2"
   ]
  },
  {
   "cell_type": "code",
   "execution_count": 36,
   "id": "6cbcf43c",
   "metadata": {},
   "outputs": [
    {
     "data": {
      "text/plain": [
       "0.2674496980601328"
      ]
     },
     "execution_count": 36,
     "metadata": {},
     "output_type": "execute_result"
    }
   ],
   "source": [
    "# Mean Squared Error\n",
    "mean_squared_error(y_test, y_pred)"
   ]
  },
  {
   "cell_type": "code",
   "execution_count": 37,
   "id": "f1266f6c",
   "metadata": {},
   "outputs": [
    {
     "data": {
      "text/plain": [
       "0.40251251046856246"
      ]
     },
     "execution_count": 37,
     "metadata": {},
     "output_type": "execute_result"
    }
   ],
   "source": [
    "# Mean Absolute Error\n",
    "mean_absolute_error(y_test, y_pred)"
   ]
  },
  {
   "cell_type": "code",
   "execution_count": 38,
   "id": "530c03cb",
   "metadata": {},
   "outputs": [],
   "source": [
    "# Save Model\n",
    "model.save('calories.h5')"
   ]
  },
  {
   "cell_type": "code",
   "execution_count": 39,
   "id": "1efd1f4c",
   "metadata": {},
   "outputs": [],
   "source": [
    "# Load Model\n",
    "from tensorflow.python.keras.models import load_model\n",
    "\n",
    "model = load_model('calories.h5')"
   ]
  },
  {
   "cell_type": "code",
   "execution_count": 41,
   "id": "30d58a2e",
   "metadata": {},
   "outputs": [],
   "source": [
    "# Save scaler object\n",
    "import pickle\n",
    "\n",
    "with open('scaler.pkl', 'wb') as file:\n",
    "    pickle.dump(sc, file)"
   ]
  },
  {
   "cell_type": "code",
   "execution_count": 42,
   "id": "ced0c78e",
   "metadata": {},
   "outputs": [],
   "source": [
    "# Load scaler object\n",
    "with open('scaler.pkl', 'rb') as file:\n",
    "    sc = pickle.load(file)"
   ]
  },
  {
   "cell_type": "code",
   "execution_count": 43,
   "id": "db213e31",
   "metadata": {},
   "outputs": [],
   "source": [
    "# Creating Pipeline\n",
    "from sklearn.pipeline import Pipeline\n",
    "\n",
    "calories_burnt_pipeline = Pipeline(steps=[\n",
    "    ('scaling', sc),\n",
    "    ('model', model)\n",
    "])"
   ]
  },
  {
   "cell_type": "code",
   "execution_count": 50,
   "id": "423cd7aa",
   "metadata": {},
   "outputs": [
    {
     "name": "stdout",
     "output_type": "stream",
     "text": [
      "Predicted Calories Burnt: 183.61816\n"
     ]
    }
   ],
   "source": [
    "# Predicting output on single data\n",
    "import numpy as np\n",
    "# a = [Age, Height, Weight, Duration, Heart_Rate, Body_Temp, male]\n",
    "a = [48, 180.0, 50.0, 29.0, 105.0, 41.8, 1]\n",
    "a = np.array(a) # convert to a numpy array\n",
    "a = np.expand_dims(a, 0) # change shape from (7,) to (1,7)\n",
    "print(\"Predicted Calories Burnt:\", calories_burnt_pipeline.predict(a)[0,0])"
   ]
  },
  {
   "cell_type": "markdown",
   "id": "2105b893",
   "metadata": {},
   "source": [
    "### Hyper Parameter Tuning with KerasTuner \n",
    "Decide number of hidden layers and neurons in Neural Network<br>\n",
    "Link: https://www.analyticsvidhya.com/blog/2021/06/tuning-hyperparameters-of-an-artificial-neural-network-leveraging-keras-tuner/"
   ]
  },
  {
   "cell_type": "code",
   "execution_count": 121,
   "id": "34cd4346",
   "metadata": {},
   "outputs": [
    {
     "name": "stdout",
     "output_type": "stream",
     "text": [
      "Trial 5 Complete [00h 05m 54s]\n",
      "val_loss: 5.573785066604614\n",
      "\n",
      "Best val_loss So Far: 0.5622307062149048\n",
      "Total elapsed time: 00h 23m 51s\n",
      "INFO:tensorflow:Oracle triggered exit\n"
     ]
    }
   ],
   "source": [
    "class ANNHyperModel(HyperModel):\n",
    "    def build(self, hp):\n",
    "        # Initializing ANN\n",
    "        model = tf.keras.models.Sequential()\n",
    "\n",
    "        # Tune the number of layers.\n",
    "        for i in range(hp.Int(\"num_layers\", min_value=2, max_value=20)):\n",
    "            # Adding hidden layers\n",
    "            model.add(\n",
    "                tf.keras.layers.Dense(\n",
    "                    # Tune number of neurons in each layer.\n",
    "                    units=hp.Int(f\"units_{i}\", min_value=32, max_value=512, step=32),\n",
    "                    kernel_initializer = 'he_uniform',\n",
    "                    activation='relu',\n",
    "                )\n",
    "            )\n",
    "            \n",
    "            # Dropout Layer to avoid overfitting\n",
    "            if hp.Boolean(\"dropout\"):\n",
    "                model.add(tf.keras.layers.Dropout(rate=0.2))\n",
    "\n",
    "        # Adding output layer\n",
    "        model.add(tf.keras.layers.Dense(1, kernel_initializer='glorot_uniform', activation=\"linear\"))\n",
    "        \n",
    "        # Tune the learning rate for the optimizer\n",
    "        # Choose an optimal value from 0.01, 0.001, or 0.0001\n",
    "        hp_learning_rate = hp.Choice('learning_rate', values=[1e-2, 1e-3, 1e-4])\n",
    "\n",
    "        # Compiling the ANN\n",
    "        model.compile(\n",
    "            optimizer=tf.keras.optimizers.Adam(learning_rate=hp_learning_rate),\n",
    "            loss='mae',\n",
    "            metrics=['mse'],\n",
    "        )\n",
    "\n",
    "        return model\n",
    "\n",
    "# Initializing HyperModel\n",
    "hypermodel = ANNHyperModel()\n",
    "\n",
    "# It take random combination values to train model\n",
    "tuner = kt.RandomSearch(\n",
    "    hypermodel,\n",
    "    objective=\"val_loss\",\n",
    "    max_trials=5,\n",
    "    executions_per_trial=2,\n",
    "    overwrite=True,\n",
    "    directory=\"keras_tuner_dir\",\n",
    "    project_name=\"Calories Burnt\",\n",
    ")\n",
    "\n",
    "# Start the search for the best hyperparameter configuration\n",
    "tuner.search(x_train, y_train, epochs=25, validation_data=(x_test, y_test))"
   ]
  },
  {
   "cell_type": "code",
   "execution_count": 123,
   "id": "166ea6f5",
   "metadata": {},
   "outputs": [
    {
     "name": "stdout",
     "output_type": "stream",
     "text": [
      "WARNING:tensorflow:Detecting that an object or model or tf.train.Checkpoint is being deleted with unrestored values. See the following logs for the specific values in question. To silence these warnings, use `status.expect_partial()`. See https://www.tensorflow.org/api_docs/python/tf/train/Checkpoint#restorefor details about the status object returned by the restore function.\n",
      "WARNING:tensorflow:Value in checkpoint could not be found in the restored object: (root).optimizer.iter\n",
      "WARNING:tensorflow:Value in checkpoint could not be found in the restored object: (root).optimizer.beta_1\n",
      "WARNING:tensorflow:Value in checkpoint could not be found in the restored object: (root).optimizer.beta_2\n",
      "WARNING:tensorflow:Value in checkpoint could not be found in the restored object: (root).optimizer.decay\n",
      "WARNING:tensorflow:Value in checkpoint could not be found in the restored object: (root).optimizer.learning_rate\n",
      "Model: \"sequential\"\n",
      "_________________________________________________________________\n",
      " Layer (type)                Output Shape              Param #   \n",
      "=================================================================\n",
      " dense (Dense)               (12000, 288)              2304      \n",
      "                                                                 \n",
      " dense_1 (Dense)             (12000, 128)              36992     \n",
      "                                                                 \n",
      " dense_2 (Dense)             (12000, 384)              49536     \n",
      "                                                                 \n",
      " dense_3 (Dense)             (12000, 1)                385       \n",
      "                                                                 \n",
      "=================================================================\n",
      "Total params: 89,217\n",
      "Trainable params: 89,217\n",
      "Non-trainable params: 0\n",
      "_________________________________________________________________\n"
     ]
    }
   ],
   "source": [
    "# Get the top 1 models.\n",
    "models = tuner.get_best_models(num_models=1)\n",
    "best_model = models[0]\n",
    "\n",
    "best_model.build(input_shape=x_train.shape)\n",
    "best_model.summary()"
   ]
  },
  {
   "cell_type": "code",
   "execution_count": 124,
   "id": "3ce1ba36",
   "metadata": {},
   "outputs": [
    {
     "name": "stdout",
     "output_type": "stream",
     "text": [
      "Epoch 1/10\n",
      "263/263 [==============================] - 3s 10ms/step - loss: 0.5437 - mse: 0.5816 - val_loss: 0.5240 - val_mse: 0.5748\n",
      "Epoch 2/10\n",
      "263/263 [==============================] - 3s 10ms/step - loss: 0.5747 - mse: 0.6251 - val_loss: 0.6232 - val_mse: 0.7473\n",
      "Epoch 3/10\n",
      "263/263 [==============================] - 3s 9ms/step - loss: 0.5421 - mse: 0.5613 - val_loss: 0.5906 - val_mse: 0.6576\n",
      "Epoch 4/10\n",
      "263/263 [==============================] - 3s 10ms/step - loss: 0.5509 - mse: 0.5776 - val_loss: 0.5924 - val_mse: 0.7245\n",
      "Epoch 5/10\n",
      "263/263 [==============================] - 2s 9ms/step - loss: 0.5681 - mse: 0.6139 - val_loss: 0.6357 - val_mse: 0.7291\n",
      "Epoch 6/10\n",
      "263/263 [==============================] - 2s 9ms/step - loss: 0.5501 - mse: 0.5665 - val_loss: 0.5137 - val_mse: 0.5314\n",
      "Epoch 7/10\n",
      "263/263 [==============================] - 3s 10ms/step - loss: 0.5524 - mse: 0.5679 - val_loss: 0.5067 - val_mse: 0.5332\n",
      "Epoch 8/10\n",
      "263/263 [==============================] - 3s 10ms/step - loss: 0.5436 - mse: 0.5499 - val_loss: 0.4974 - val_mse: 0.5103\n",
      "Epoch 9/10\n",
      "263/263 [==============================] - 2s 9ms/step - loss: 0.5626 - mse: 0.5858 - val_loss: 0.5606 - val_mse: 0.6084\n",
      "Epoch 10/10\n",
      "263/263 [==============================] - 2s 9ms/step - loss: 0.5279 - mse: 0.5250 - val_loss: 0.5824 - val_mse: 0.6517\n"
     ]
    },
    {
     "data": {
      "text/plain": [
       "<keras.callbacks.History at 0x18abe1e2760>"
      ]
     },
     "execution_count": 124,
     "metadata": {},
     "output_type": "execute_result"
    }
   ],
   "source": [
    "# Now you can train the best_model\n",
    "best_model.fit(x_train, y_train, epochs=10, batch_size=32, validation_split=0.3)"
   ]
  },
  {
   "cell_type": "markdown",
   "id": "7eb21bc6",
   "metadata": {},
   "source": [
    "### Creating Web App using Flask\n",
    "Created simple UI using flask framework."
   ]
  },
  {
   "cell_type": "markdown",
   "id": "77995c7e",
   "metadata": {},
   "source": [
    "### CI/CD Pipeline using Github Actions\n",
    "Uploaded code to the github repository. Then created CI/CD pipeline for automatic deployment to Heroku."
   ]
  },
  {
   "cell_type": "markdown",
   "id": "93a35c51",
   "metadata": {},
   "source": [
    "### Deploying to Heroku\n",
    "Deployed flask app to Heroku using CI/CD pipeline with Docker."
   ]
  }
 ],
 "metadata": {
  "kernelspec": {
   "display_name": "Python 3 (ipykernel)",
   "language": "python",
   "name": "python3"
  },
  "language_info": {
   "codemirror_mode": {
    "name": "ipython",
    "version": 3
   },
   "file_extension": ".py",
   "mimetype": "text/x-python",
   "name": "python",
   "nbconvert_exporter": "python",
   "pygments_lexer": "ipython3",
   "version": "3.9.1"
  }
 },
 "nbformat": 4,
 "nbformat_minor": 5
}
